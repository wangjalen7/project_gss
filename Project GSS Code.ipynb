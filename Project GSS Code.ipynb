{
  "nbformat": 4,
  "nbformat_minor": 0,
  "metadata": {
    "colab": {
      "provenance": [],
      "authorship_tag": "ABX9TyNf3MyhT2VnzFt9M0aRDQGE",
      "include_colab_link": true
    },
    "kernelspec": {
      "name": "python3",
      "display_name": "Python 3"
    },
    "language_info": {
      "name": "python"
    }
  },
  "cells": [
    {
      "cell_type": "markdown",
      "metadata": {
        "id": "view-in-github",
        "colab_type": "text"
      },
      "source": [
        "<a href=\"https://colab.research.google.com/github/wangjalen7/project_gss/blob/main/Project%20GSS%20Code.ipynb\" target=\"_parent\"><img src=\"https://colab.research.google.com/assets/colab-badge.svg\" alt=\"Open In Colab\"/></a>"
      ]
    },
    {
      "cell_type": "code",
      "execution_count": 1,
      "metadata": {
        "id": "0EPUiR51qjCV"
      },
      "outputs": [],
      "source": [
        "import pandas as pd\n",
        "import numpy as np\n",
        "import matplotlib.pyplot as plt"
      ]
    },
    {
      "cell_type": "code",
      "source": [
        "# Created an account and selected variables from the GSS explorer (https://gssdataexplorer.norc.org/variables/vfilter), then exported them into my own excel\n",
        "\n",
        "# DATA CLEANING FOR WWWHR VARIABLE\n",
        "\n",
        "data = pd.read_excel('./data/wwwhr.xlsx')\n",
        "# print(data.head())\n",
        "# print(data.describe())\n",
        "\n",
        "codes_to_remove = ['.i:  Inapplicable', '.p:  Not applicable (I have not faced this decision)/Not imputable', '.d:  Do not Know/Cannot Choose', '.n:  No answer']\n",
        "\n",
        "# Remove rows with the specified codes to get rid of unusable data\n",
        "cleaned_data = data[~data['wwwhr'].isin(codes_to_remove)].copy()\n",
        "\n",
        "# Replace \"0 hours\" with 0 and \"168 hours\" with 168\n",
        "cleaned_data['wwwhr'] = cleaned_data['wwwhr'].replace(\"0 hours\", 0)\n",
        "cleaned_data['wwwhr'] = cleaned_data['wwwhr'].replace(\"168 hours\", 168)\n",
        "\n",
        "# Convert 'wwwhr' to numeric, making non-convertible values NaN\n",
        "cleaned_data['wwwhr'] = pd.to_numeric(cleaned_data['wwwhr'], errors='coerce')\n",
        "\n",
        "# Remove all rows with NaN values in 'wwwhr'\n",
        "cleaned_data.dropna(subset=['wwwhr'], inplace=True)\n",
        "\n",
        "print(cleaned_data.head())\n",
        "print(cleaned_data.describe())\n"
      ],
      "metadata": {
        "colab": {
          "base_uri": "https://localhost:8080/"
        },
        "id": "7DVkuWSirE90",
        "outputId": "e2363ca5-9618-411d-c224-4e78d4367aac"
      },
      "execution_count": 3,
      "outputs": [
        {
          "output_type": "stream",
          "name": "stdout",
          "text": [
            "       year  id_  wwwhr\n",
            "38116  2000    1    5.0\n",
            "38119  2000    4    2.0\n",
            "38120  2000    5    1.0\n",
            "38122  2000    7    0.0\n",
            "38124  2000    9    1.0\n",
            "               year           id_         wwwhr\n",
            "count  17186.000000  17186.000000  17186.000000\n",
            "mean    2012.449901   1559.351682     11.127080\n",
            "std        7.547115   1030.925901     15.244951\n",
            "min     2000.000000      1.000000      0.000000\n",
            "25%     2006.000000    721.000000      2.000000\n",
            "50%     2014.000000   1446.000000      5.000000\n",
            "75%     2021.000000   2216.000000     15.000000\n",
            "max     2022.000000   4506.000000    168.000000\n"
          ]
        }
      ]
    },
    {
      "cell_type": "code",
      "source": [
        "# VISUALIZATION FOR WWWWHR VARIABLE\n",
        "# We see average web usage increase each year, indicating a wider acceptance of technology/internet usage as time passes and technology advances.\n",
        "\n",
        "# Calculate the average web usage hours per year\n",
        "yearly_avg_hours = cleaned_data.groupby('year')['wwwhr'].mean().reset_index()\n",
        "\n",
        "# Plotting\n",
        "plt.figure(figsize=(10, 6))\n",
        "sns.scatterplot(data=yearly_avg_hours, x='year', y='wwwhr')\n",
        "plt.title('Trend of Web Usage Hours Over Time')\n",
        "plt.xlabel('Year')\n",
        "plt.ylabel('Average Web Usage Hours per Week')\n",
        "plt.grid(True)\n",
        "plt.xticks(yearly_avg_hours['year'].unique(), rotation=45)\n",
        "plt.tight_layout()\n",
        "plt.show()\n",
        "\n",
        "yearly_avg_hours"
      ],
      "metadata": {
        "id": "pal9n2yOrUt2"
      },
      "execution_count": null,
      "outputs": []
    },
    {
      "cell_type": "code",
      "source": [
        "# With the KDE plot, we see a clear rightward shift in the peaks from 2000 to 2022. This indicates an overall increase in the number of hours spent on the web per week over time.\n",
        "# It suggests that, on average, people are using the web more as the years progress. The width of the distributions seems to broaden slightly over time as well, indicating that\n",
        "# the variability in web usage hours among individuals has increased.\n",
        "\n",
        "# Filter the dataset for a few selected years for clarity\n",
        "selected_years = cleaned_data[cleaned_data['year'].isin([2000, 2006, 2014, 2022])]\n",
        "\n",
        "# Plotting\n",
        "plt.figure(figsize=(12, 6))\n",
        "sns.kdeplot(data=selected_years, x='wwwhr', hue='year', fill=True)\n",
        "plt.title('Kernel Density Estimate of Weekly Web Usage Hours')\n",
        "plt.xlabel('Hours per Week')\n",
        "plt.ylabel('Density')\n",
        "plt.show()"
      ],
      "metadata": {
        "id": "ln_k-Z6Lra6J"
      },
      "execution_count": null,
      "outputs": []
    },
    {
      "cell_type": "code",
      "source": [
        "# DATA CLEANING FOR WEBMOB VARIABLE\n",
        "\n",
        "data = pd.read_excel('./data/webmob.xlsx')\n",
        "# print(data.head())\n",
        "# print(data.describe())\n",
        "\n",
        "codes_to_remove.extend(['.n:  No answer', '.d:  Do not Know/Cannot Choose', '.s:  Skipped on Web'])\n",
        "\n",
        "# Remove rows with the specified codes to get rid of unusable data\n",
        "cleaned_data = data[~data['webmob'].isin(codes_to_remove)].copy()\n",
        "\n",
        "# print(cleaned_data.head())\n",
        "# print(cleaned_data.describe())"
      ],
      "metadata": {
        "id": "dHT_WDOHrdnq"
      },
      "execution_count": null,
      "outputs": []
    }
  ]
}